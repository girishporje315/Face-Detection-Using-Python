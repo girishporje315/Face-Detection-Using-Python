{
 "cells": [
  {
   "cell_type": "markdown",
   "id": "f57d28b8",
   "metadata": {},
   "source": [
    "# Face Detection Using Python"
   ]
  },
  {
   "cell_type": "markdown",
   "id": "3fc3c5d9",
   "metadata": {},
   "source": [
    "## Introduction"
   ]
  },
  {
   "cell_type": "markdown",
   "id": "c4231803",
   "metadata": {},
   "source": [
    "In this project we are trying to build face detection system by using python and open cv."
   ]
  },
  {
   "cell_type": "markdown",
   "id": "4f9e87fa",
   "metadata": {},
   "source": [
    "Face is the most important part of the human body through which the camera or the video device can recognize humans by face detection"
   ]
  },
  {
   "cell_type": "markdown",
   "id": "d433ad29",
   "metadata": {},
   "source": [
    "## Project Motivation "
   ]
  },
  {
   "cell_type": "markdown",
   "id": "f26d5e4a",
   "metadata": {},
   "source": [
    "We often use our phone camera several times a day and as soon as we are clicking someones images a square box started showing the faces in the picture on the display of mobile phone."
   ]
  },
  {
   "cell_type": "markdown",
   "id": "443383db",
   "metadata": {},
   "source": [
    "Same thing happens with laptop camera and other video recording devices also."
   ]
  },
  {
   "cell_type": "markdown",
   "id": "28f84d5e",
   "metadata": {},
   "source": [
    "So, with the curiosity of this technology we researched about building this project with the help of python."
   ]
  },
  {
   "cell_type": "markdown",
   "id": "33e15f06",
   "metadata": {},
   "source": [
    "and after researching about various things we started building this project with python."
   ]
  },
  {
   "cell_type": "markdown",
   "id": "af59950d",
   "metadata": {},
   "source": [
    "## Computer Vision "
   ]
  },
  {
   "cell_type": "markdown",
   "id": "094f04f2",
   "metadata": {},
   "source": [
    "Computer vision is a process by which we can understand the images and videos how they are stored and how we can manipulate and retrieve data from them. Computer Vision is the base or mostly used for Artificial Intelligence. Computer-Vision is playing a major role in self-driving cars, robotics as well as in photo correction apps. "
   ]
  },
  {
   "cell_type": "markdown",
   "id": "48c519d1",
   "metadata": {},
   "source": [
    "## OpenCV "
   ]
  },
  {
   "cell_type": "markdown",
   "id": "52948d5f",
   "metadata": {},
   "source": [
    "OpenCV is the huge open-source library for the computer vision, machine learning, and image processing and now it plays a major role in real-time operation which is very important in today’s systems. By using it, one can process images and videos to identify objects, faces, or even handwriting of a human. When it integrated with various libraries, such as NumPy, python is capable of processing the OpenCV array structure for analysis. To Identify image pattern and its various features we use vector space and perform mathematical operations on these features."
   ]
  },
  {
   "cell_type": "code",
   "execution_count": null,
   "id": "3ba20f3b",
   "metadata": {},
   "outputs": [],
   "source": []
  },
  {
   "cell_type": "code",
   "execution_count": 1,
   "id": "ad17fdf9",
   "metadata": {},
   "outputs": [],
   "source": [
    "import cv2  #-->FIrst import openCV module."
   ]
  },
  {
   "cell_type": "code",
   "execution_count": 2,
   "id": "6d7e0657",
   "metadata": {},
   "outputs": [],
   "source": [
    "#--> Making a variable face_capture to capture the classification of the face like eyes, nose, lips etc.\n",
    "#-->cascadeClassifier will capture the classification like eyes, nose, mouth, lips etc.\n",
    "#-->Give the data to the CasscadeClassifier by puting the path of the file imported by OpenCV.(haarcascade_frontakface_default)\n",
    "\n",
    "\n",
    "face_capture = cv2.CascadeClassifier(\"C:/Users/DELL/anaconda3/Lib/site-packages/cv2/data/haarcascade_frontalface_default.xml\")\n",
    "\n",
    "video_capture = cv2.VideoCapture(0)                      #-->this is for enabling camera and by using (0) we are enabling runtime camera.                \n",
    "while True:                                              #-->while true is for running infinite loop until we press the specific key to close the camera.\n",
    "    ret , video_data = video_capture.read()              #-->now the code is reading the pictures captured by the camera.\n",
    "    col = cv2.cvtColor(video_data,cv2.COLOR_BGR2GRAY)    #-->We have to change the captured image and convert it to blank and white so the programm can understand the muscles of the face.\n",
    "                                                         #-->Because the muscles are clearly displayed in the black and white picture.\n",
    "\n",
    "\n",
    "#--> Now we have to cover the structure of the face.\n",
    "    faces = face_capture.detectMultiScale(\n",
    "    col,\n",
    "    scaleFactor = 1.1,\n",
    "    minNeighbors=5,\n",
    "    minSize=(30,30),\n",
    "    flags=cv2.CASCADE_SCALE_IMAGE\n",
    "    )\n",
    "    \n",
    "#--> Making the square bracket to show around the face to detect.\n",
    "    for (x,y,w,h) in faces:\n",
    "        cv2.rectangle(video_data,(x,y),(x+w,y+h),(0,255,0),2)    #-->This rectangle function in cv2 makes the rectangle.\n",
    "                                                                 #--> coordinates are given like height, width and colour of the square bracet.\n",
    "    \n",
    "    \n",
    "    \n",
    "    \n",
    "    cv2.imshow(\"video_live\",video_data)                      #-->To show the image in the frame (frame name given is \"Video Live\")\n",
    "    if cv2.waitKey(10) == ord(\"a\"):                          #-->waitKey is a function of cv2 by wich we can stop the video for sometime\n",
    "                                                             #-->ord() is a function of python which  returns the Unicode code from a given character.\n",
    "                                                             #--> if we press \"a\" it will stop the video.\n",
    "        \n",
    "        break                                                #--> Break statemen to end the if condition.\n",
    "video_capture.release()\n"
   ]
  },
  {
   "cell_type": "code",
   "execution_count": null,
   "id": "fec37925",
   "metadata": {},
   "outputs": [],
   "source": []
  },
  {
   "cell_type": "code",
   "execution_count": 1,
   "id": "c1d817e3",
   "metadata": {},
   "outputs": [],
   "source": [
    "#-->This code is only to enable the camera.\n",
    "\n",
    "#video_capture = cv2.VideoCapture(0)  #-->this is for enabling camera and by using (0) we are enabling runtime camera.\n",
    "\n",
    "#-->Now the camera should be continue on and only closed when a specific key is pressed.\n",
    "#while True:                                   #-->while true is for running infinite loop until we press the specific key to close the camera.\n",
    "#    ret , video_data = video_capture.read()   #-->now the code is reading the pictures captured by the camera.\n",
    "#    cv2.imshow(\"video_live\",video_data)       #-->To show the image in the frame (frame name given is \"Video Live\")\n",
    "#    if cv2.waitKey(10) == ord(\"a\"):           #-->waitKey is a function of cv2 by wich we can stop the video for sometime\n",
    "                                               #-->ord() is a function of python which  returns the Unicode code from a given character.\n",
    "                                               #--> if we press \"a\" it will stop the video.\n",
    "#        break                                 #--> Break statemen to end the if condition.\n",
    "#video_capture.release()\n"
   ]
  },
  {
   "cell_type": "code",
   "execution_count": null,
   "id": "40d061a9",
   "metadata": {},
   "outputs": [],
   "source": []
  }
 ],
 "metadata": {
  "kernelspec": {
   "display_name": "Python 3 (ipykernel)",
   "language": "python",
   "name": "python3"
  },
  "language_info": {
   "codemirror_mode": {
    "name": "ipython",
    "version": 3
   },
   "file_extension": ".py",
   "mimetype": "text/x-python",
   "name": "python",
   "nbconvert_exporter": "python",
   "pygments_lexer": "ipython3",
   "version": "3.9.7"
  }
 },
 "nbformat": 4,
 "nbformat_minor": 5
}
